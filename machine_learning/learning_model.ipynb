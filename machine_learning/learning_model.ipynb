{
 "cells": [
  {
   "cell_type": "code",
   "execution_count": 20,
   "id": "e94e5bb0",
   "metadata": {},
   "outputs": [],
   "source": [
    "import pandas as pd\n",
    "import numpy as np\n",
    "import matplotlib.pyplot as plt\n",
    "import seaborn as sns\n",
    "from sklearn.model_selection import train_test_split\n",
    "from sklearn.metrics import classification_report, accuracy_score, f1_score"
   ]
  },
  {
   "cell_type": "code",
   "execution_count": 21,
   "id": "d63445a5",
   "metadata": {},
   "outputs": [],
   "source": [
    "import torch\n",
    "from torch.utils.data import Dataset, DataLoader\n",
    "from transformers import BertTokenizer, BertForSequenceClassification, get_linear_schedule_with_warmup\n",
    "from torch.optim import AdamW \n",
    "from tqdm import tqdm"
   ]
  },
  {
   "cell_type": "code",
   "execution_count": 22,
   "id": "488c27c2",
   "metadata": {},
   "outputs": [],
   "source": [
    "def eda_analysis(df):\n",
    "    print(\"Первые 5 строк:\")\n",
    "    display(df.head())\n",
    "    \n",
    "    print(\"\\nРаспределение классов Dangerous:\")\n",
    "    plt.figure(figsize=(6,4))\n",
    "    sns.countplot(x='Dangerous', data=df)\n",
    "    plt.show()\n",
    "    \n",
    "    print(\"\\nРаспределение AnimalClass:\")\n",
    "    plt.figure(figsize=(8,4))\n",
    "    sns.countplot(x='AnimalClass', data=df, hue='Dangerous')\n",
    "    plt.show()\n",
    "    \n",
    "    print(\"\\nПримеры текстов:\")\n",
    "    for i in range(3):\n",
    "        print(f\"{i+1}. {df['syptom_description'].iloc[i]}\\n\")"
   ]
  },
  {
   "cell_type": "code",
   "execution_count": 23,
   "id": "5fcfcc60",
   "metadata": {},
   "outputs": [],
   "source": [
    "class SymptomDataset(Dataset):\n",
    "    def __init__(self, df, tokenizer, max_len):\n",
    "        self.texts = [\n",
    "            f\"Животное: {row.AnimalClass}. Симптомы: {row.syptom_description}\" \n",
    "            for _, row in df.iterrows()\n",
    "        ]\n",
    "        self.labels = df.Dangerous.values\n",
    "        self.tokenizer = tokenizer\n",
    "        self.max_len = max_len\n",
    "        \n",
    "    def __len__(self):\n",
    "        return len(self.texts)\n",
    "    \n",
    "    def __getitem__(self, idx):\n",
    "        text = str(self.texts[idx])\n",
    "        label = self.labels[idx]\n",
    "        \n",
    "        encoding = self.tokenizer.encode_plus(\n",
    "            text,\n",
    "            add_special_tokens=True,\n",
    "            max_length=self.max_len,\n",
    "            return_token_type_ids=False,\n",
    "            padding='max_length',\n",
    "            truncation=True,\n",
    "            return_attention_mask=True,\n",
    "            return_tensors='pt',\n",
    "        )\n",
    "        \n",
    "        return {\n",
    "            'input_ids': encoding['input_ids'].flatten(),\n",
    "            'attention_mask': encoding['attention_mask'].flatten(),\n",
    "            'labels': torch.tensor(label, dtype=torch.long)\n",
    "        }"
   ]
  },
  {
   "cell_type": "code",
   "execution_count": 24,
   "id": "6b2765b4",
   "metadata": {},
   "outputs": [],
   "source": [
    "class BERTDangerClassifier:\n",
    "    def __init__(self, model_name='DeepPavlov/rubert-base-cased', n_classes=2, max_len=128):\n",
    "        self.model = BertForSequenceClassification.from_pretrained(\n",
    "            model_name, num_labels=n_classes)\n",
    "        self.tokenizer = BertTokenizer.from_pretrained(model_name)\n",
    "        self.max_len = max_len\n",
    "        self.device = torch.device('cuda' if torch.cuda.is_available() else 'cpu')\n",
    "        self.model.to(self.device)\n",
    "        \n",
    "    def prepare_data(self, df):\n",
    "        texts = [f\"Животное: {row.AnimalClass}. Симптомы: {row.syptom_description}\" \n",
    "                for _, row in df.iterrows()]\n",
    "        labels = df.Dangerous.values\n",
    "        return train_test_split(texts, labels, test_size=0.2, stratify=labels, random_state=42)\n",
    "        \n",
    "    def create_data_loader(self, df, batch_size=16):\n",
    "        dataset = SymptomDataset(\n",
    "            df=df,\n",
    "            tokenizer=self.tokenizer,\n",
    "            max_len=self.max_len\n",
    "        )\n",
    "        return DataLoader(dataset, batch_size=batch_size, shuffle=True)\n",
    "    \n",
    "    def train(self, train_df, val_df, epochs=4, batch_size=16, learning_rate=2e-5):\n",
    "        train_loader = self.create_data_loader(train_df, batch_size)\n",
    "        val_loader = self.create_data_loader(val_df, batch_size)\n",
    "        \n",
    "        optimizer = AdamW(self.model.parameters(), lr=learning_rate)\n",
    "        total_steps = len(train_loader) * epochs\n",
    "        scheduler = get_linear_schedule_with_warmup(\n",
    "            optimizer,\n",
    "            num_warmup_steps=0,\n",
    "            num_training_steps=total_steps\n",
    "        )\n",
    "        \n",
    "        best_f1 = 0\n",
    "        for epoch in range(epochs):\n",
    "            self.model.train()\n",
    "            losses = []\n",
    "            correct_predictions = 0\n",
    "            \n",
    "            for batch in tqdm(train_loader):\n",
    "                input_ids = batch['input_ids'].to(self.device)\n",
    "                attention_mask = batch['attention_mask'].to(self.device)\n",
    "                labels = batch['labels'].to(self.device)\n",
    "                \n",
    "                outputs = self.model(\n",
    "                    input_ids=input_ids,\n",
    "                    attention_mask=attention_mask,\n",
    "                    labels=labels\n",
    "                )\n",
    "                \n",
    "                loss = outputs.loss\n",
    "                logits = outputs.logits\n",
    "                \n",
    "                _, preds = torch.max(logits, dim=1)\n",
    "                correct_predictions += torch.sum(preds == labels)\n",
    "                losses.append(loss.item())\n",
    "                \n",
    "                loss.backward()\n",
    "                torch.nn.utils.clip_grad_norm_(self.model.parameters(), max_norm=1.0)\n",
    "                optimizer.step()\n",
    "                scheduler.step()\n",
    "                optimizer.zero_grad()\n",
    "            \n",
    "            train_acc = correct_predictions.double() / len(train_loader.dataset)\n",
    "            train_loss = np.mean(losses)\n",
    "            \n",
    "            val_acc, val_f1, val_loss = self.evaluate(val_loader)\n",
    "            \n",
    "            print(f'Epoch {epoch + 1}/{epochs}')\n",
    "            print(f'Train loss: {train_loss:.4f} Accuracy: {train_acc:.4f}')\n",
    "            print(f'Val loss: {val_loss:.4f} Accuracy: {val_acc:.4f} F1: {val_f1:.4f}')\n",
    "            \n",
    "            if val_f1 > best_f1:\n",
    "                torch.save(self.model.state_dict(), 'best_model.bin')\n",
    "                best_f1 = val_f1\n",
    "                \n",
    "    def evaluate(self, data_loader):\n",
    "        self.model.eval()\n",
    "        losses = []\n",
    "        correct_predictions = 0\n",
    "        all_preds = []\n",
    "        all_labels = []\n",
    "        \n",
    "        with torch.no_grad():\n",
    "            for batch in data_loader:\n",
    "                input_ids = batch['input_ids'].to(self.device)\n",
    "                attention_mask = batch['attention_mask'].to(self.device)\n",
    "                labels = batch['labels'].to(self.device)\n",
    "                \n",
    "                outputs = self.model(\n",
    "                    input_ids=input_ids,\n",
    "                    attention_mask=attention_mask,\n",
    "                    labels=labels\n",
    "                )\n",
    "                \n",
    "                loss = outputs.loss\n",
    "                logits = outputs.logits\n",
    "                \n",
    "                _, preds = torch.max(logits, dim=1)\n",
    "                correct_predictions += torch.sum(preds == labels)\n",
    "                losses.append(loss.item())\n",
    "                \n",
    "                all_preds.extend(preds.cpu().numpy())\n",
    "                all_labels.extend(labels.cpu().numpy())\n",
    "                \n",
    "        val_acc = correct_predictions.double() / len(data_loader.dataset)\n",
    "        val_loss = np.mean(losses)\n",
    "        val_f1 = f1_score(all_labels, all_preds)\n",
    "        return val_acc, val_f1, val_loss\n",
    "    \n",
    "    def save_model(self, output_dir):\n",
    "        self.model.save_pretrained(output_dir)\n",
    "        self.tokenizer.save_pretrained(output_dir)\n",
    "        \n",
    "    @classmethod\n",
    "    def load_model(cls, model_path, max_len=128):\n",
    "        model = BertForSequenceClassification.from_pretrained(model_path)\n",
    "        tokenizer = BertTokenizer.from_pretrained(model_path)\n",
    "        classifier = cls.__new__(cls)\n",
    "        classifier.model = model\n",
    "        classifier.tokenizer = tokenizer\n",
    "        classifier.max_len = max_len\n",
    "        classifier.device = torch.device('cpu')\n",
    "        classifier.model.to(classifier.device)\n",
    "        return classifier"
   ]
  },
  {
   "cell_type": "code",
   "execution_count": 25,
   "id": "a9eb1282",
   "metadata": {},
   "outputs": [],
   "source": [
    "df = pd.read_csv('final_dataset.csv').drop(columns=['Unnamed: 0'])"
   ]
  },
  {
   "cell_type": "code",
   "execution_count": null,
   "id": "eaf6635c",
   "metadata": {},
   "outputs": [],
   "source": [
    "eda_analysis(df)"
   ]
  },
  {
   "cell_type": "code",
   "execution_count": 27,
   "id": "93f96a9e",
   "metadata": {},
   "outputs": [],
   "source": [
    "train_df, test_df = train_test_split(\n",
    "        df, test_size=0.2, stratify=df.Dangerous, random_state=42)"
   ]
  },
  {
   "cell_type": "code",
   "execution_count": 28,
   "id": "861b512a",
   "metadata": {},
   "outputs": [
    {
     "name": "stderr",
     "output_type": "stream",
     "text": [
      "Some weights of BertForSequenceClassification were not initialized from the model checkpoint at DeepPavlov/rubert-base-cased and are newly initialized: ['classifier.bias', 'classifier.weight']\n",
      "You should probably TRAIN this model on a down-stream task to be able to use it for predictions and inference.\n",
      "100%|██████████| 87/87 [13:44<00:00,  9.48s/it]\n"
     ]
    },
    {
     "name": "stdout",
     "output_type": "stream",
     "text": [
      "Epoch 1/5\n",
      "Train loss: 0.1559 Accuracy: 0.9655\n",
      "Val loss: 0.1178 Accuracy: 0.9771 F1: 0.9884\n"
     ]
    },
    {
     "name": "stderr",
     "output_type": "stream",
     "text": [
      "100%|██████████| 87/87 [13:35<00:00,  9.38s/it]\n"
     ]
    },
    {
     "name": "stdout",
     "output_type": "stream",
     "text": [
      "Epoch 2/5\n",
      "Train loss: 0.1283 Accuracy: 0.9741\n",
      "Val loss: 0.1173 Accuracy: 0.9771 F1: 0.9884\n"
     ]
    },
    {
     "name": "stderr",
     "output_type": "stream",
     "text": [
      "100%|██████████| 87/87 [13:26<00:00,  9.27s/it]\n"
     ]
    },
    {
     "name": "stdout",
     "output_type": "stream",
     "text": [
      "Epoch 3/5\n",
      "Train loss: 0.1261 Accuracy: 0.9741\n",
      "Val loss: 0.1231 Accuracy: 0.9771 F1: 0.9884\n"
     ]
    },
    {
     "name": "stderr",
     "output_type": "stream",
     "text": [
      "100%|██████████| 87/87 [13:21<00:00,  9.21s/it]\n"
     ]
    },
    {
     "name": "stdout",
     "output_type": "stream",
     "text": [
      "Epoch 4/5\n",
      "Train loss: 0.1263 Accuracy: 0.9741\n",
      "Val loss: 0.1077 Accuracy: 0.9771 F1: 0.9884\n"
     ]
    },
    {
     "name": "stderr",
     "output_type": "stream",
     "text": [
      "100%|██████████| 87/87 [13:14<00:00,  9.13s/it]\n"
     ]
    },
    {
     "name": "stdout",
     "output_type": "stream",
     "text": [
      "Epoch 5/5\n",
      "Train loss: 0.0889 Accuracy: 0.9741\n",
      "Val loss: 0.0729 Accuracy: 0.9771 F1: 0.9884\n"
     ]
    }
   ],
   "source": [
    "classifier = BERTDangerClassifier(max_len=256)\n",
    "classifier.train(train_df, test_df, epochs=5, batch_size=8)"
   ]
  },
  {
   "cell_type": "code",
   "execution_count": 29,
   "id": "5090a0cc",
   "metadata": {},
   "outputs": [],
   "source": [
    "classifier.save_model('symptom_classifier')"
   ]
  },
  {
   "cell_type": "code",
   "execution_count": 30,
   "id": "c666e943",
   "metadata": {},
   "outputs": [],
   "source": [
    "loaded_model = BERTDangerClassifier.load_model('symptom_classifier')"
   ]
  },
  {
   "cell_type": "code",
   "execution_count": 61,
   "id": "57093dde",
   "metadata": {},
   "outputs": [],
   "source": [
    "def predict_danger(animal_class, description, threshold=0.995):\n",
    "    text = f\"Животное: {animal_class}. Симптомы: {description}\"\n",
    "    encoding = loaded_model.tokenizer.encode_plus(\n",
    "        text,\n",
    "        max_length=256,\n",
    "        add_special_tokens=True,\n",
    "        return_token_type_ids=False,\n",
    "        padding='max_length',\n",
    "        truncation=True,\n",
    "        return_attention_mask=True,\n",
    "        return_tensors='pt',\n",
    "    )\n",
    "    \n",
    "    input_ids = encoding['input_ids'].to(loaded_model.device)\n",
    "    attention_mask = encoding['attention_mask'].to(loaded_model.device)\n",
    "    \n",
    "    with torch.no_grad():\n",
    "        outputs = loaded_model.model(\n",
    "            input_ids=input_ids,\n",
    "            attention_mask=attention_mask\n",
    "        )\n",
    "        \n",
    "    probs = torch.nn.functional.softmax(outputs.logits, dim=1)\n",
    "    danger_prob = probs[0][1].item()\n",
    "    \n",
    "    is_dangerous = 1 if danger_prob >= threshold else 0\n",
    "    \n",
    "    return danger_prob, is_dangerous"
   ]
  },
  {
   "cell_type": "code",
   "execution_count": null,
   "id": "7efabd45",
   "metadata": {},
   "outputs": [
    {
     "name": "stdout",
     "output_type": "stream",
     "text": [
      "Вероятность опасности: 0.99\n",
      "Опасны ли симптомы: Нет\n"
     ]
    }
   ],
   "source": [
    "example_animal = 'собака'\n",
    "example_description = 'веселый добрый много кушает'\n",
    "danger_prob, is_dangerous = predict_danger(example_animal, example_description)\n",
    "print(f\"Вероятность опасности: {danger_prob:.2f}\")\n",
    "print(f\"Опасны ли симптомы: {'Да' if is_dangerous else 'Нет'}\")"
   ]
  }
 ],
 "metadata": {
  "kernelspec": {
   "display_name": "Python (UV Env)",
   "language": "python",
   "name": "uv-env"
  },
  "language_info": {
   "codemirror_mode": {
    "name": "ipython",
    "version": 3
   },
   "file_extension": ".py",
   "mimetype": "text/x-python",
   "name": "python",
   "nbconvert_exporter": "python",
   "pygments_lexer": "ipython3",
   "version": "3.10.16"
  }
 },
 "nbformat": 4,
 "nbformat_minor": 5
}
